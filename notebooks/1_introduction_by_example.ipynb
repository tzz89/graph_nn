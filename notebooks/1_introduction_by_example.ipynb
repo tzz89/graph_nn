{
 "cells": [
  {
   "cell_type": "code",
   "execution_count": 2,
   "id": "ab7284e7-dad9-4b2d-991a-30a0c553203c",
   "metadata": {},
   "outputs": [],
   "source": [
    "import torch\n",
    "from torch_geometric.data import Data"
   ]
  },
  {
   "cell_type": "code",
   "execution_count": 5,
   "id": "ae9e0cbd-de9e-4f46-8e50-d4dbc6e2047c",
   "metadata": {},
   "outputs": [],
   "source": [
    "## 1 Data is per graph\n",
    "## node features \n",
    "## edge index (adjacency matrix) (coo format = coordiate format)\n",
    "## edge features\n",
    "## node pos (geometric positions)\n",
    "## label (node level - [node, labels], graph level [1, labels]"
   ]
  },
  {
   "cell_type": "code",
   "execution_count": 33,
   "id": "99b5230a-1340-4207-84b0-602c2c89b49b",
   "metadata": {},
   "outputs": [],
   "source": [
    "node_features = torch.tensor([[-1], [1], [2]], dtype=torch.long)\n",
    "edge_index = torch.tensor([[0,1,1,2,0,2,0],\n",
    "              [1,0,2,1,2,0,0]])\n",
    "\n",
    "data = Data(x=node_features, edge_index=edge_index)"
   ]
  },
  {
   "cell_type": "code",
   "execution_count": 34,
   "id": "86a3e6cd-5ac1-4fa9-8ee7-b6bf31cb4204",
   "metadata": {},
   "outputs": [
    {
     "data": {
      "text/plain": [
       "True"
      ]
     },
     "execution_count": 34,
     "metadata": {},
     "output_type": "execute_result"
    }
   ],
   "source": [
    "data.num_features\n",
    "data.is_undirected()"
   ]
  },
  {
   "cell_type": "code",
   "execution_count": 35,
   "id": "5ad59c62-4527-4fe4-bc2b-77293b2e4236",
   "metadata": {},
   "outputs": [
    {
     "data": {
      "text/plain": [
       "False"
      ]
     },
     "execution_count": 35,
     "metadata": {},
     "output_type": "execute_result"
    }
   ],
   "source": [
    "data.has_isolated_nodes()"
   ]
  },
  {
   "cell_type": "code",
   "execution_count": 36,
   "id": "d49db2fd-5da0-4cc2-b8cb-a153789d31df",
   "metadata": {},
   "outputs": [
    {
     "data": {
      "text/plain": [
       "7"
      ]
     },
     "execution_count": 36,
     "metadata": {},
     "output_type": "execute_result"
    }
   ],
   "source": [
    "data.num_edges"
   ]
  },
  {
   "cell_type": "code",
   "execution_count": 37,
   "id": "49778169-902c-45c7-958f-02f1b2a5e047",
   "metadata": {},
   "outputs": [
    {
     "data": {
      "text/plain": [
       "True"
      ]
     },
     "execution_count": 37,
     "metadata": {},
     "output_type": "execute_result"
    }
   ],
   "source": [
    "data.has_self_loops()"
   ]
  },
  {
   "cell_type": "code",
   "execution_count": 40,
   "id": "4af5da15-36b2-421f-aa82-21abbea6c533",
   "metadata": {},
   "outputs": [
    {
     "name": "stdout",
     "output_type": "stream",
     "text": [
      "device : cuda\n"
     ]
    }
   ],
   "source": [
    "device = \"cuda\" if torch.cuda.is_available() else \"cpu\"\n",
    "print(\"device :\", device)"
   ]
  },
  {
   "cell_type": "code",
   "execution_count": 41,
   "id": "31ac384c-5f03-49ca-9fc6-66aac740d2dd",
   "metadata": {},
   "outputs": [
    {
     "data": {
      "text/plain": [
       "Data(x=[3, 1], edge_index=[2, 7])"
      ]
     },
     "execution_count": 41,
     "metadata": {},
     "output_type": "execute_result"
    }
   ],
   "source": [
    "data.to(device)"
   ]
  },
  {
   "cell_type": "code",
   "execution_count": 42,
   "id": "490b4f25-be16-4a80-946c-bb9faa6dcccb",
   "metadata": {},
   "outputs": [
    {
     "data": {
      "text/plain": [
       "Data(x=[3, 1], edge_index=[2, 7])"
      ]
     },
     "execution_count": 42,
     "metadata": {},
     "output_type": "execute_result"
    }
   ],
   "source": [
    "data.to(\"cpu\")"
   ]
  },
  {
   "cell_type": "code",
   "execution_count": 43,
   "id": "3d90d316-bab0-4619-b345-551475a8bea5",
   "metadata": {},
   "outputs": [],
   "source": [
    "from torch_geometric.datasets import TUDataset"
   ]
  },
  {
   "cell_type": "code",
   "execution_count": 44,
   "id": "334c9f00-9703-4c91-a12d-435d3b3e4205",
   "metadata": {},
   "outputs": [
    {
     "name": "stderr",
     "output_type": "stream",
     "text": [
      "Downloading https://www.chrsmrrs.com/graphkerneldatasets/ENZYMES.zip\n",
      "Extracting ../datasets/ENZYMES/ENZYMES/ENZYMES.zip\n",
      "Processing...\n",
      "Done!\n"
     ]
    }
   ],
   "source": [
    "tu_dataset = TUDataset(\"../datasets/ENZYMES\", name=\"ENZYMES\") "
   ]
  },
  {
   "cell_type": "code",
   "execution_count": 45,
   "id": "8e24084b-395e-4bb3-a6e0-68b564022e21",
   "metadata": {},
   "outputs": [
    {
     "data": {
      "text/plain": [
       "600"
      ]
     },
     "execution_count": 45,
     "metadata": {},
     "output_type": "execute_result"
    }
   ],
   "source": [
    "tu_dataset.len()"
   ]
  },
  {
   "cell_type": "code",
   "execution_count": 47,
   "id": "96cc49fd-16d7-443c-b629-0a4b43567521",
   "metadata": {},
   "outputs": [
    {
     "data": {
      "text/plain": [
       "6"
      ]
     },
     "execution_count": 47,
     "metadata": {},
     "output_type": "execute_result"
    }
   ],
   "source": [
    "tu_dataset.num_classes # graph level?"
   ]
  },
  {
   "cell_type": "code",
   "execution_count": null,
   "id": "7660cf16-616a-47b2-a946-52aa13a65888",
   "metadata": {},
   "outputs": [],
   "source": [
    "tu_dataset.num_node_labels"
   ]
  },
  {
   "cell_type": "code",
   "execution_count": null,
   "id": "b0abb288-fe7f-41c3-acd8-05df65a5db09",
   "metadata": {},
   "outputs": [],
   "source": []
  },
  {
   "cell_type": "code",
   "execution_count": 50,
   "id": "0ef7c065-8912-44d5-b125-ede20b2b5ea5",
   "metadata": {},
   "outputs": [],
   "source": [
    "single_data= tu_dataset[0]"
   ]
  },
  {
   "cell_type": "code",
   "execution_count": 53,
   "id": "8afd1dea-8de0-4806-8d05-c15b68350ba7",
   "metadata": {},
   "outputs": [
    {
     "data": {
      "text/plain": [
       "Data(edge_index=[2, 168], x=[37, 3], y=[1])"
      ]
     },
     "execution_count": 53,
     "metadata": {},
     "output_type": "execute_result"
    }
   ],
   "source": [
    "single_data"
   ]
  },
  {
   "cell_type": "code",
   "execution_count": 54,
   "id": "c121e4e5-cc42-49ab-8c9e-96231026b397",
   "metadata": {},
   "outputs": [
    {
     "data": {
      "text/plain": [
       "168"
      ]
     },
     "execution_count": 54,
     "metadata": {},
     "output_type": "execute_result"
    }
   ],
   "source": [
    "single_data.num_edges"
   ]
  },
  {
   "cell_type": "code",
   "execution_count": 55,
   "id": "29aca8e6-f04a-4f88-979e-5f727dda0d50",
   "metadata": {},
   "outputs": [
    {
     "data": {
      "text/plain": [
       "37"
      ]
     },
     "execution_count": 55,
     "metadata": {},
     "output_type": "execute_result"
    }
   ],
   "source": [
    "single_data.num_nodes"
   ]
  },
  {
   "cell_type": "code",
   "execution_count": 56,
   "id": "59652ae7-eafd-47e7-8b44-02a0e5ce51d8",
   "metadata": {},
   "outputs": [],
   "source": [
    "#Shuffling\n",
    "tu_dataset = tu_dataset.shuffle()"
   ]
  },
  {
   "cell_type": "code",
   "execution_count": 57,
   "id": "2768d153-eae8-45c6-bca5-1f3de170c69d",
   "metadata": {},
   "outputs": [],
   "source": [
    "tu_train_dataset = tu_dataset[:540]\n",
    "tu_test_dataset = tu_dataset[540:]"
   ]
  },
  {
   "cell_type": "code",
   "execution_count": 62,
   "id": "29cec7b6-05f2-473d-b54d-b1511ccc57bf",
   "metadata": {},
   "outputs": [],
   "source": [
    "from torch_geometric.datasets import Planetoid"
   ]
  },
  {
   "cell_type": "code",
   "execution_count": 64,
   "id": "b54c16e7-80d1-4791-b3e8-f708cf2860e4",
   "metadata": {},
   "outputs": [
    {
     "name": "stderr",
     "output_type": "stream",
     "text": [
      "Downloading https://github.com/kimiyoung/planetoid/raw/master/data/ind.cora.x\n",
      "Downloading https://github.com/kimiyoung/planetoid/raw/master/data/ind.cora.tx\n",
      "Downloading https://github.com/kimiyoung/planetoid/raw/master/data/ind.cora.allx\n",
      "Downloading https://github.com/kimiyoung/planetoid/raw/master/data/ind.cora.y\n",
      "Downloading https://github.com/kimiyoung/planetoid/raw/master/data/ind.cora.ty\n",
      "Downloading https://github.com/kimiyoung/planetoid/raw/master/data/ind.cora.ally\n",
      "Downloading https://github.com/kimiyoung/planetoid/raw/master/data/ind.cora.graph\n",
      "Downloading https://github.com/kimiyoung/planetoid/raw/master/data/ind.cora.test.index\n",
      "Processing...\n",
      "Done!\n"
     ]
    }
   ],
   "source": [
    "cora_dataset = Planetoid(\"../datasets/Cora/\", name='Cora')"
   ]
  },
  {
   "cell_type": "code",
   "execution_count": 66,
   "id": "3fd5407e-5338-4d12-a8e3-5f0bac93e9ee",
   "metadata": {},
   "outputs": [
    {
     "data": {
      "text/plain": [
       "1"
      ]
     },
     "execution_count": 66,
     "metadata": {},
     "output_type": "execute_result"
    }
   ],
   "source": [
    "cora_dataset.len() # 1 graph"
   ]
  },
  {
   "cell_type": "code",
   "execution_count": 69,
   "id": "db3be33e-e65b-452a-8d20-f84371c24fa7",
   "metadata": {},
   "outputs": [
    {
     "data": {
      "text/plain": [
       "Cora()"
      ]
     },
     "execution_count": 69,
     "metadata": {},
     "output_type": "execute_result"
    }
   ],
   "source": [
    "cora_dataset"
   ]
  },
  {
   "cell_type": "code",
   "execution_count": 67,
   "id": "62670349-e9b5-47d4-a1b1-0b547e70b5f3",
   "metadata": {},
   "outputs": [],
   "source": [
    "cora_data = cora_dataset[0]"
   ]
  },
  {
   "cell_type": "code",
   "execution_count": 70,
   "id": "272bc207-11d9-400a-b6c0-cd0153f4c9d3",
   "metadata": {},
   "outputs": [
    {
     "data": {
      "text/plain": [
       "Data(x=[2708, 1433], edge_index=[2, 10556], y=[2708], train_mask=[2708], val_mask=[2708], test_mask=[2708])"
      ]
     },
     "execution_count": 70,
     "metadata": {},
     "output_type": "execute_result"
    }
   ],
   "source": [
    "cora_data"
   ]
  },
  {
   "cell_type": "code",
   "execution_count": null,
   "id": "79ca7a2d-c1d0-4862-9ff9-3ae3fa792ce6",
   "metadata": {},
   "outputs": [],
   "source": [
    "2708 nodes\n",
    "1433 features\n",
    "10556 edges\n",
    "2708 node labels\n"
   ]
  },
  {
   "cell_type": "code",
   "execution_count": 76,
   "id": "3582fd4e-8438-41c2-bfd2-629430b9960e",
   "metadata": {},
   "outputs": [
    {
     "data": {
      "text/plain": [
       "140"
      ]
     },
     "execution_count": 76,
     "metadata": {},
     "output_type": "execute_result"
    }
   ],
   "source": [
    "cora_data['train_mask'].sum().item()"
   ]
  },
  {
   "cell_type": "code",
   "execution_count": 77,
   "id": "0ee4c594-3cc4-4ac7-abd4-1a6068c5b387",
   "metadata": {},
   "outputs": [
    {
     "data": {
      "text/plain": [
       "500"
      ]
     },
     "execution_count": 77,
     "metadata": {},
     "output_type": "execute_result"
    }
   ],
   "source": [
    "cora_data['val_mask'].sum().item()"
   ]
  },
  {
   "cell_type": "code",
   "execution_count": 78,
   "id": "24f56fc9-423e-41d5-832d-cc9282a130a3",
   "metadata": {},
   "outputs": [
    {
     "data": {
      "text/plain": [
       "1000"
      ]
     },
     "execution_count": 78,
     "metadata": {},
     "output_type": "execute_result"
    }
   ],
   "source": [
    "cora_data['test_mask'].sum().item()"
   ]
  },
  {
   "cell_type": "code",
   "execution_count": 81,
   "id": "5a595c26-b9e6-4cd3-b1eb-f0a5d1c87dde",
   "metadata": {},
   "outputs": [],
   "source": [
    "from torch_scatter import scatter\n",
    "from torch_geometric.datasets import TUDataset\n",
    "from torch_geometric.data import DataLoader"
   ]
  },
  {
   "cell_type": "code",
   "execution_count": 91,
   "id": "d4b05bbe-b2be-44ce-9c70-b9aee59f1b93",
   "metadata": {},
   "outputs": [
    {
     "name": "stderr",
     "output_type": "stream",
     "text": [
      "/home/george/.pyenv/versions/3.8.0/lib/python3.8/site-packages/torch_geometric/deprecation.py:12: UserWarning: 'data.DataLoader' is deprecated, use 'loader.DataLoader' instead\n",
      "  warnings.warn(out)\n"
     ]
    }
   ],
   "source": [
    "tu_dataset = TUDataset(\"../datasets/ENZYMES\", name=\"ENZYMES\", use_node_attr=True)\n",
    "tu_dataloader = DataLoader(tu_dataset, batch_size=32, shuffle=True)"
   ]
  },
  {
   "cell_type": "code",
   "execution_count": 92,
   "id": "ab45aefd-aed1-4fa0-8994-38de153645ad",
   "metadata": {},
   "outputs": [
    {
     "name": "stdout",
     "output_type": "stream",
     "text": [
      "DataBatch(edge_index=[2, 3816], x=[989, 21], y=[32], batch=[989], ptr=[33])\n",
      "32\n",
      "torch.Size([32, 21])\n",
      "DataBatch(edge_index=[2, 4126], x=[1119, 21], y=[32], batch=[1119], ptr=[33])\n",
      "32\n",
      "torch.Size([32, 21])\n",
      "DataBatch(edge_index=[2, 3436], x=[996, 21], y=[32], batch=[996], ptr=[33])\n",
      "32\n",
      "torch.Size([32, 21])\n",
      "DataBatch(edge_index=[2, 4404], x=[1201, 21], y=[32], batch=[1201], ptr=[33])\n",
      "32\n",
      "torch.Size([32, 21])\n",
      "DataBatch(edge_index=[2, 4186], x=[1067, 21], y=[32], batch=[1067], ptr=[33])\n",
      "32\n",
      "torch.Size([32, 21])\n",
      "DataBatch(edge_index=[2, 4010], x=[1099, 21], y=[32], batch=[1099], ptr=[33])\n",
      "32\n",
      "torch.Size([32, 21])\n",
      "DataBatch(edge_index=[2, 3772], x=[961, 21], y=[32], batch=[961], ptr=[33])\n",
      "32\n",
      "torch.Size([32, 21])\n",
      "DataBatch(edge_index=[2, 4018], x=[1065, 21], y=[32], batch=[1065], ptr=[33])\n",
      "32\n",
      "torch.Size([32, 21])\n",
      "DataBatch(edge_index=[2, 4578], x=[1186, 21], y=[32], batch=[1186], ptr=[33])\n",
      "32\n",
      "torch.Size([32, 21])\n",
      "DataBatch(edge_index=[2, 4042], x=[1048, 21], y=[32], batch=[1048], ptr=[33])\n",
      "32\n",
      "torch.Size([32, 21])\n",
      "DataBatch(edge_index=[2, 3494], x=[907, 21], y=[32], batch=[907], ptr=[33])\n",
      "32\n",
      "torch.Size([32, 21])\n",
      "DataBatch(edge_index=[2, 3798], x=[966, 21], y=[32], batch=[966], ptr=[33])\n",
      "32\n",
      "torch.Size([32, 21])\n",
      "DataBatch(edge_index=[2, 4258], x=[1076, 21], y=[32], batch=[1076], ptr=[33])\n",
      "32\n",
      "torch.Size([32, 21])\n",
      "DataBatch(edge_index=[2, 4024], x=[1067, 21], y=[32], batch=[1067], ptr=[33])\n",
      "32\n",
      "torch.Size([32, 21])\n",
      "DataBatch(edge_index=[2, 3556], x=[930, 21], y=[32], batch=[930], ptr=[33])\n",
      "32\n",
      "torch.Size([32, 21])\n",
      "DataBatch(edge_index=[2, 4094], x=[1055, 21], y=[32], batch=[1055], ptr=[33])\n",
      "32\n",
      "torch.Size([32, 21])\n",
      "DataBatch(edge_index=[2, 4066], x=[1022, 21], y=[32], batch=[1022], ptr=[33])\n",
      "32\n",
      "torch.Size([32, 21])\n",
      "DataBatch(edge_index=[2, 3978], x=[1043, 21], y=[32], batch=[1043], ptr=[33])\n",
      "32\n",
      "torch.Size([32, 21])\n",
      "DataBatch(edge_index=[2, 2908], x=[783, 21], y=[24], batch=[783], ptr=[25])\n",
      "24\n",
      "torch.Size([24, 21])\n"
     ]
    }
   ],
   "source": [
    "for batch in tu_dataloader:\n",
    "    print(batch)\n",
    "    print(batch.num_graphs)\n",
    "    x = scatter(batch.x, batch.batch, dim=0, reduce='mean')\n",
    "    print(x.size())"
   ]
  },
  {
   "cell_type": "markdown",
   "id": "13cd9fba-a83d-4dcd-958d-0421817621ea",
   "metadata": {},
   "source": [
    "## Dataset transformation"
   ]
  },
  {
   "cell_type": "code",
   "execution_count": null,
   "id": "8a8d54c9-cffa-46a2-a2b2-3164842e7551",
   "metadata": {},
   "outputs": [],
   "source": [
    "from torch_geometric.datasets import ShapeNet\n",
    "import torch_geometric.transforms as T"
   ]
  },
  {
   "cell_type": "code",
   "execution_count": 105,
   "id": "ad116d2e-c37c-4e2f-8379-867f435a84c1",
   "metadata": {},
   "outputs": [
    {
     "name": "stderr",
     "output_type": "stream",
     "text": [
      "Processing...\n",
      "Done!\n"
     ]
    },
    {
     "data": {
      "text/plain": [
       "Data(x=[2518, 3], y=[2518], pos=[2518, 3], category=[1])"
      ]
     },
     "execution_count": 105,
     "metadata": {},
     "output_type": "execute_result"
    }
   ],
   "source": [
    "shape_net_dataset = ShapeNet(\"../datasets/ShapeNet\", categories=['Airplane'])\n",
    "shape_net_dataset[0]"
   ]
  },
  {
   "cell_type": "code",
   "execution_count": 104,
   "id": "ec9dc112-aae6-4c7f-a6b5-77d8da5e94bd",
   "metadata": {},
   "outputs": [
    {
     "data": {
      "text/plain": [
       "Data(x=[2518, 3], y=[2518], pos=[2518, 3], category=[1], edge_index=[2, 15108])"
      ]
     },
     "execution_count": 104,
     "metadata": {},
     "output_type": "execute_result"
    }
   ],
   "source": [
    "shape_net_dataset_2 = ShapeNet(\"../datasets/ShapeNet\", categories=['Airplane'],\n",
    "                            pre_transform=T.KNNGraph(6))\n",
    "shape_net_dataset_2[0]"
   ]
  },
  {
   "cell_type": "code",
   "execution_count": 106,
   "id": "d8fbff8b-d3b7-41d3-8a2f-67f5f6ab6821",
   "metadata": {},
   "outputs": [],
   "source": [
    "#loading the dataset\n",
    "#Create the model\n",
    "#Training loop\n",
    "#Evaluate"
   ]
  },
  {
   "cell_type": "code",
   "execution_count": 127,
   "id": "cbfc40b4-29e7-4395-afde-4573db04f663",
   "metadata": {},
   "outputs": [],
   "source": [
    "import torch\n",
    "import torch.nn.functional as F\n",
    "from torch_geometric.datasets import Planetoid\n",
    "from torch_geometric.nn import GCNConv\n",
    "from torch_geometric.data import Data\n",
    "import torch.nn as nn\n",
    "from torch.optim import Adam"
   ]
  },
  {
   "cell_type": "code",
   "execution_count": 122,
   "id": "a3468c28-3272-41b7-8070-0e2949728ce5",
   "metadata": {},
   "outputs": [
    {
     "name": "stdout",
     "output_type": "stream",
     "text": [
      "Num graphs: 1\n",
      "Num Nodes: 2708\n",
      "Num Nodes features: 1433\n",
      "Num edges: 10556\n",
      "Num classes: 7\n",
      "Keys: ['val_mask', 'test_mask', 'train_mask', 'x', 'y', 'edge_index']\n"
     ]
    }
   ],
   "source": [
    "cora_dataset = Planetoid(\"../datasets/Cora/\", name=\"Cora\")\n",
    "print(\"Num graphs:\", len(cora_dataset))\n",
    "print(\"Num Nodes:\", cora_dataset[0].num_nodes)\n",
    "print(\"Num Nodes features:\", cora_dataset.num_node_features)\n",
    "print(\"Num edges:\", cora_dataset[0].num_edges)\n",
    "print(\"Num classes:\", cora_dataset.num_classes)\n",
    "print(\"Keys:\", cora_dataset[0].keys)\n"
   ]
  },
  {
   "cell_type": "code",
   "execution_count": 135,
   "id": "256b79e2-c432-4d4f-bd59-03811d061847",
   "metadata": {},
   "outputs": [],
   "source": [
    "def get_device():\n",
    "    if torch.cuda.is_available():\n",
    "        return torch.device(\"cuda\")\n",
    "    return torch.device(\"cpu\")\n",
    "\n",
    "class CustomGCN(nn.Module):\n",
    "    def __init__(self, dataset, hidden_layer=16):\n",
    "        super().__init__()\n",
    "        self.num_node_features = dataset.num_node_features\n",
    "        self.hidden_layer = hidden_layer\n",
    "        self.num_classes = dataset.num_classes\n",
    "        self.conv1 = GCNConv(self.num_node_features, hidden_layer)\n",
    "        self.conv2 = GCNConv(hidden_layer, self.num_classes)\n",
    "        \n",
    "    def forward(self, data):\n",
    "        x, edge_index = data.x, data.edge_index\n",
    "        x = self.conv1(x, edge_index=edge_index)\n",
    "        x = F.relu(x)\n",
    "        x = F.dropout(x, training=self.training)\n",
    "        x = self.conv2(x, edge_index=edge_index)\n",
    "        return F.log_softmax(x, dim=1)\n",
    "    "
   ]
  },
  {
   "cell_type": "code",
   "execution_count": 116,
   "id": "9d59f072-9d48-4878-af8a-6226e409f36b",
   "metadata": {},
   "outputs": [
    {
     "name": "stdout",
     "output_type": "stream",
     "text": [
      "Device: cuda\n"
     ]
    }
   ],
   "source": [
    "device = get_device()\n",
    "print(f\"Device: {device}\")"
   ]
  },
  {
   "cell_type": "code",
   "execution_count": 143,
   "id": "9b730856-1d84-4a1a-804e-2d20d6a85d79",
   "metadata": {},
   "outputs": [],
   "source": [
    "model = CustomGCN(cora_dataset)"
   ]
  },
  {
   "cell_type": "code",
   "execution_count": 156,
   "id": "830dd175-c659-413d-8137-eee87a8b9bef",
   "metadata": {},
   "outputs": [],
   "source": [
    "def train_single_loop(data, model, optimizer):\n",
    "    model = model.train()\n",
    "    optimizer.zero_grad()\n",
    "    output = model(data)\n",
    "    loss = F.nll_loss(output[data.train_mask], data.y[data.train_mask])\n",
    "    print(\"loss: \", loss)\n",
    "    loss.backward()\n",
    "    optimizer.step()"
   ]
  },
  {
   "cell_type": "code",
   "execution_count": 157,
   "id": "d5c374ec-b4ac-4cde-9438-1b3dfde40424",
   "metadata": {},
   "outputs": [],
   "source": [
    "optimizer = Adam(model.parameters(), lr=0.01, weight_decay=5e-4)"
   ]
  },
  {
   "cell_type": "code",
   "execution_count": 158,
   "id": "6c50fa95-913a-49da-abe6-9c3b77babd72",
   "metadata": {},
   "outputs": [],
   "source": [
    "model = model.to(device)\n",
    "data = cora_dataset[0].to(device)"
   ]
  },
  {
   "cell_type": "code",
   "execution_count": 159,
   "id": "5a431243-1709-43fc-8ceb-902009b61dc8",
   "metadata": {},
   "outputs": [
    {
     "name": "stdout",
     "output_type": "stream",
     "text": [
      "Epoch 0\n",
      "loss:  tensor(0.0399, device='cuda:0', grad_fn=<NllLossBackward0>)\n",
      "Epoch 1\n",
      "loss:  tensor(0.0437, device='cuda:0', grad_fn=<NllLossBackward0>)\n",
      "Epoch 2\n",
      "loss:  tensor(0.0241, device='cuda:0', grad_fn=<NllLossBackward0>)\n",
      "Epoch 3\n",
      "loss:  tensor(0.0383, device='cuda:0', grad_fn=<NllLossBackward0>)\n",
      "Epoch 4\n",
      "loss:  tensor(0.0307, device='cuda:0', grad_fn=<NllLossBackward0>)\n",
      "Epoch 5\n",
      "loss:  tensor(0.0312, device='cuda:0', grad_fn=<NllLossBackward0>)\n",
      "Epoch 6\n",
      "loss:  tensor(0.0241, device='cuda:0', grad_fn=<NllLossBackward0>)\n",
      "Epoch 7\n",
      "loss:  tensor(0.0247, device='cuda:0', grad_fn=<NllLossBackward0>)\n",
      "Epoch 8\n",
      "loss:  tensor(0.0302, device='cuda:0', grad_fn=<NllLossBackward0>)\n",
      "Epoch 9\n",
      "loss:  tensor(0.0397, device='cuda:0', grad_fn=<NllLossBackward0>)\n",
      "Epoch 10\n",
      "loss:  tensor(0.0143, device='cuda:0', grad_fn=<NllLossBackward0>)\n",
      "Epoch 11\n",
      "loss:  tensor(0.0314, device='cuda:0', grad_fn=<NllLossBackward0>)\n",
      "Epoch 12\n",
      "loss:  tensor(0.0282, device='cuda:0', grad_fn=<NllLossBackward0>)\n",
      "Epoch 13\n",
      "loss:  tensor(0.0257, device='cuda:0', grad_fn=<NllLossBackward0>)\n",
      "Epoch 14\n",
      "loss:  tensor(0.0273, device='cuda:0', grad_fn=<NllLossBackward0>)\n",
      "Epoch 15\n",
      "loss:  tensor(0.0200, device='cuda:0', grad_fn=<NllLossBackward0>)\n",
      "Epoch 16\n",
      "loss:  tensor(0.0168, device='cuda:0', grad_fn=<NllLossBackward0>)\n",
      "Epoch 17\n",
      "loss:  tensor(0.0205, device='cuda:0', grad_fn=<NllLossBackward0>)\n",
      "Epoch 18\n",
      "loss:  tensor(0.0356, device='cuda:0', grad_fn=<NllLossBackward0>)\n",
      "Epoch 19\n",
      "loss:  tensor(0.0284, device='cuda:0', grad_fn=<NllLossBackward0>)\n",
      "Epoch 20\n",
      "loss:  tensor(0.0246, device='cuda:0', grad_fn=<NllLossBackward0>)\n",
      "Epoch 21\n",
      "loss:  tensor(0.0139, device='cuda:0', grad_fn=<NllLossBackward0>)\n",
      "Epoch 22\n",
      "loss:  tensor(0.0418, device='cuda:0', grad_fn=<NllLossBackward0>)\n",
      "Epoch 23\n",
      "loss:  tensor(0.0220, device='cuda:0', grad_fn=<NllLossBackward0>)\n",
      "Epoch 24\n",
      "loss:  tensor(0.0328, device='cuda:0', grad_fn=<NllLossBackward0>)\n",
      "Epoch 25\n",
      "loss:  tensor(0.0236, device='cuda:0', grad_fn=<NllLossBackward0>)\n",
      "Epoch 26\n",
      "loss:  tensor(0.0149, device='cuda:0', grad_fn=<NllLossBackward0>)\n",
      "Epoch 27\n",
      "loss:  tensor(0.0194, device='cuda:0', grad_fn=<NllLossBackward0>)\n",
      "Epoch 28\n",
      "loss:  tensor(0.0166, device='cuda:0', grad_fn=<NllLossBackward0>)\n",
      "Epoch 29\n",
      "loss:  tensor(0.0163, device='cuda:0', grad_fn=<NllLossBackward0>)\n",
      "Epoch 30\n",
      "loss:  tensor(0.0177, device='cuda:0', grad_fn=<NllLossBackward0>)\n",
      "Epoch 31\n",
      "loss:  tensor(0.0332, device='cuda:0', grad_fn=<NllLossBackward0>)\n",
      "Epoch 32\n",
      "loss:  tensor(0.0210, device='cuda:0', grad_fn=<NllLossBackward0>)\n",
      "Epoch 33\n",
      "loss:  tensor(0.0237, device='cuda:0', grad_fn=<NllLossBackward0>)\n",
      "Epoch 34\n",
      "loss:  tensor(0.0201, device='cuda:0', grad_fn=<NllLossBackward0>)\n",
      "Epoch 35\n",
      "loss:  tensor(0.0206, device='cuda:0', grad_fn=<NllLossBackward0>)\n",
      "Epoch 36\n",
      "loss:  tensor(0.0323, device='cuda:0', grad_fn=<NllLossBackward0>)\n",
      "Epoch 37\n",
      "loss:  tensor(0.0164, device='cuda:0', grad_fn=<NllLossBackward0>)\n",
      "Epoch 38\n",
      "loss:  tensor(0.0242, device='cuda:0', grad_fn=<NllLossBackward0>)\n",
      "Epoch 39\n",
      "loss:  tensor(0.0398, device='cuda:0', grad_fn=<NllLossBackward0>)\n",
      "Epoch 40\n",
      "loss:  tensor(0.0185, device='cuda:0', grad_fn=<NllLossBackward0>)\n",
      "Epoch 41\n",
      "loss:  tensor(0.0180, device='cuda:0', grad_fn=<NllLossBackward0>)\n",
      "Epoch 42\n",
      "loss:  tensor(0.0221, device='cuda:0', grad_fn=<NllLossBackward0>)\n",
      "Epoch 43\n",
      "loss:  tensor(0.0145, device='cuda:0', grad_fn=<NllLossBackward0>)\n",
      "Epoch 44\n",
      "loss:  tensor(0.0193, device='cuda:0', grad_fn=<NllLossBackward0>)\n",
      "Epoch 45\n",
      "loss:  tensor(0.0133, device='cuda:0', grad_fn=<NllLossBackward0>)\n",
      "Epoch 46\n",
      "loss:  tensor(0.0195, device='cuda:0', grad_fn=<NllLossBackward0>)\n",
      "Epoch 47\n",
      "loss:  tensor(0.0137, device='cuda:0', grad_fn=<NllLossBackward0>)\n",
      "Epoch 48\n",
      "loss:  tensor(0.0128, device='cuda:0', grad_fn=<NllLossBackward0>)\n",
      "Epoch 49\n",
      "loss:  tensor(0.0542, device='cuda:0', grad_fn=<NllLossBackward0>)\n",
      "Epoch 50\n",
      "loss:  tensor(0.0137, device='cuda:0', grad_fn=<NllLossBackward0>)\n",
      "Epoch 51\n",
      "loss:  tensor(0.0309, device='cuda:0', grad_fn=<NllLossBackward0>)\n",
      "Epoch 52\n",
      "loss:  tensor(0.0149, device='cuda:0', grad_fn=<NllLossBackward0>)\n",
      "Epoch 53\n",
      "loss:  tensor(0.0154, device='cuda:0', grad_fn=<NllLossBackward0>)\n",
      "Epoch 54\n",
      "loss:  tensor(0.0330, device='cuda:0', grad_fn=<NllLossBackward0>)\n",
      "Epoch 55\n",
      "loss:  tensor(0.0198, device='cuda:0', grad_fn=<NllLossBackward0>)\n",
      "Epoch 56\n",
      "loss:  tensor(0.0274, device='cuda:0', grad_fn=<NllLossBackward0>)\n",
      "Epoch 57\n",
      "loss:  tensor(0.0210, device='cuda:0', grad_fn=<NllLossBackward0>)\n",
      "Epoch 58\n",
      "loss:  tensor(0.0219, device='cuda:0', grad_fn=<NllLossBackward0>)\n",
      "Epoch 59\n",
      "loss:  tensor(0.0198, device='cuda:0', grad_fn=<NllLossBackward0>)\n",
      "Epoch 60\n",
      "loss:  tensor(0.0233, device='cuda:0', grad_fn=<NllLossBackward0>)\n",
      "Epoch 61\n",
      "loss:  tensor(0.0138, device='cuda:0', grad_fn=<NllLossBackward0>)\n",
      "Epoch 62\n",
      "loss:  tensor(0.0186, device='cuda:0', grad_fn=<NllLossBackward0>)\n",
      "Epoch 63\n",
      "loss:  tensor(0.0158, device='cuda:0', grad_fn=<NllLossBackward0>)\n",
      "Epoch 64\n",
      "loss:  tensor(0.0155, device='cuda:0', grad_fn=<NllLossBackward0>)\n",
      "Epoch 65\n",
      "loss:  tensor(0.0248, device='cuda:0', grad_fn=<NllLossBackward0>)\n",
      "Epoch 66\n",
      "loss:  tensor(0.0262, device='cuda:0', grad_fn=<NllLossBackward0>)\n",
      "Epoch 67\n",
      "loss:  tensor(0.0253, device='cuda:0', grad_fn=<NllLossBackward0>)\n",
      "Epoch 68\n",
      "loss:  tensor(0.0186, device='cuda:0', grad_fn=<NllLossBackward0>)\n",
      "Epoch 69\n",
      "loss:  tensor(0.0143, device='cuda:0', grad_fn=<NllLossBackward0>)\n",
      "Epoch 70\n",
      "loss:  tensor(0.0207, device='cuda:0', grad_fn=<NllLossBackward0>)\n",
      "Epoch 71\n",
      "loss:  tensor(0.0214, device='cuda:0', grad_fn=<NllLossBackward0>)\n",
      "Epoch 72\n",
      "loss:  tensor(0.0343, device='cuda:0', grad_fn=<NllLossBackward0>)\n",
      "Epoch 73\n",
      "loss:  tensor(0.0360, device='cuda:0', grad_fn=<NllLossBackward0>)\n",
      "Epoch 74\n",
      "loss:  tensor(0.0103, device='cuda:0', grad_fn=<NllLossBackward0>)\n",
      "Epoch 75\n",
      "loss:  tensor(0.0247, device='cuda:0', grad_fn=<NllLossBackward0>)\n",
      "Epoch 76\n",
      "loss:  tensor(0.0235, device='cuda:0', grad_fn=<NllLossBackward0>)\n",
      "Epoch 77\n",
      "loss:  tensor(0.0303, device='cuda:0', grad_fn=<NllLossBackward0>)\n",
      "Epoch 78\n",
      "loss:  tensor(0.0288, device='cuda:0', grad_fn=<NllLossBackward0>)\n",
      "Epoch 79\n",
      "loss:  tensor(0.0273, device='cuda:0', grad_fn=<NllLossBackward0>)\n",
      "Epoch 80\n",
      "loss:  tensor(0.0277, device='cuda:0', grad_fn=<NllLossBackward0>)\n",
      "Epoch 81\n",
      "loss:  tensor(0.0173, device='cuda:0', grad_fn=<NllLossBackward0>)\n",
      "Epoch 82\n",
      "loss:  tensor(0.0168, device='cuda:0', grad_fn=<NllLossBackward0>)\n",
      "Epoch 83\n",
      "loss:  tensor(0.0120, device='cuda:0', grad_fn=<NllLossBackward0>)\n",
      "Epoch 84\n",
      "loss:  tensor(0.0196, device='cuda:0', grad_fn=<NllLossBackward0>)\n",
      "Epoch 85\n",
      "loss:  tensor(0.0186, device='cuda:0', grad_fn=<NllLossBackward0>)\n",
      "Epoch 86\n",
      "loss:  tensor(0.0097, device='cuda:0', grad_fn=<NllLossBackward0>)\n",
      "Epoch 87\n",
      "loss:  tensor(0.0151, device='cuda:0', grad_fn=<NllLossBackward0>)\n",
      "Epoch 88\n",
      "loss:  tensor(0.0072, device='cuda:0', grad_fn=<NllLossBackward0>)\n",
      "Epoch 89\n",
      "loss:  tensor(0.0146, device='cuda:0', grad_fn=<NllLossBackward0>)\n",
      "Epoch 90\n",
      "loss:  tensor(0.0218, device='cuda:0', grad_fn=<NllLossBackward0>)\n",
      "Epoch 91\n",
      "loss:  tensor(0.0163, device='cuda:0', grad_fn=<NllLossBackward0>)\n",
      "Epoch 92\n",
      "loss:  tensor(0.0117, device='cuda:0', grad_fn=<NllLossBackward0>)\n",
      "Epoch 93\n",
      "loss:  tensor(0.0299, device='cuda:0', grad_fn=<NllLossBackward0>)\n",
      "Epoch 94\n",
      "loss:  tensor(0.0124, device='cuda:0', grad_fn=<NllLossBackward0>)\n",
      "Epoch 95\n",
      "loss:  tensor(0.0167, device='cuda:0', grad_fn=<NllLossBackward0>)\n",
      "Epoch 96\n",
      "loss:  tensor(0.0160, device='cuda:0', grad_fn=<NllLossBackward0>)\n",
      "Epoch 97\n",
      "loss:  tensor(0.0255, device='cuda:0', grad_fn=<NllLossBackward0>)\n",
      "Epoch 98\n",
      "loss:  tensor(0.0165, device='cuda:0', grad_fn=<NllLossBackward0>)\n",
      "Epoch 99\n",
      "loss:  tensor(0.0140, device='cuda:0', grad_fn=<NllLossBackward0>)\n",
      "Epoch 100\n",
      "loss:  tensor(0.0158, device='cuda:0', grad_fn=<NllLossBackward0>)\n",
      "Epoch 101\n",
      "loss:  tensor(0.0197, device='cuda:0', grad_fn=<NllLossBackward0>)\n",
      "Epoch 102\n",
      "loss:  tensor(0.0138, device='cuda:0', grad_fn=<NllLossBackward0>)\n",
      "Epoch 103\n",
      "loss:  tensor(0.0168, device='cuda:0', grad_fn=<NllLossBackward0>)\n",
      "Epoch 104\n",
      "loss:  tensor(0.0235, device='cuda:0', grad_fn=<NllLossBackward0>)\n",
      "Epoch 105\n",
      "loss:  tensor(0.0100, device='cuda:0', grad_fn=<NllLossBackward0>)\n",
      "Epoch 106\n",
      "loss:  tensor(0.0271, device='cuda:0', grad_fn=<NllLossBackward0>)\n",
      "Epoch 107\n",
      "loss:  tensor(0.0216, device='cuda:0', grad_fn=<NllLossBackward0>)\n",
      "Epoch 108\n",
      "loss:  tensor(0.0109, device='cuda:0', grad_fn=<NllLossBackward0>)\n",
      "Epoch 109\n",
      "loss:  tensor(0.0164, device='cuda:0', grad_fn=<NllLossBackward0>)\n",
      "Epoch 110\n",
      "loss:  tensor(0.0176, device='cuda:0', grad_fn=<NllLossBackward0>)\n",
      "Epoch 111\n",
      "loss:  tensor(0.0160, device='cuda:0', grad_fn=<NllLossBackward0>)\n",
      "Epoch 112\n",
      "loss:  tensor(0.0143, device='cuda:0', grad_fn=<NllLossBackward0>)\n",
      "Epoch 113\n",
      "loss:  tensor(0.0139, device='cuda:0', grad_fn=<NllLossBackward0>)\n",
      "Epoch 114\n",
      "loss:  tensor(0.0135, device='cuda:0', grad_fn=<NllLossBackward0>)\n",
      "Epoch 115\n",
      "loss:  tensor(0.0216, device='cuda:0', grad_fn=<NllLossBackward0>)\n",
      "Epoch 116\n",
      "loss:  tensor(0.0174, device='cuda:0', grad_fn=<NllLossBackward0>)\n",
      "Epoch 117\n",
      "loss:  tensor(0.0222, device='cuda:0', grad_fn=<NllLossBackward0>)\n",
      "Epoch 118\n",
      "loss:  tensor(0.0231, device='cuda:0', grad_fn=<NllLossBackward0>)\n",
      "Epoch 119\n",
      "loss:  tensor(0.0181, device='cuda:0', grad_fn=<NllLossBackward0>)\n",
      "Epoch 120\n",
      "loss:  tensor(0.0183, device='cuda:0', grad_fn=<NllLossBackward0>)\n",
      "Epoch 121\n",
      "loss:  tensor(0.0166, device='cuda:0', grad_fn=<NllLossBackward0>)\n",
      "Epoch 122\n",
      "loss:  tensor(0.0123, device='cuda:0', grad_fn=<NllLossBackward0>)\n",
      "Epoch 123\n",
      "loss:  tensor(0.0180, device='cuda:0', grad_fn=<NllLossBackward0>)\n",
      "Epoch 124\n",
      "loss:  tensor(0.0197, device='cuda:0', grad_fn=<NllLossBackward0>)\n",
      "Epoch 125\n",
      "loss:  tensor(0.0141, device='cuda:0', grad_fn=<NllLossBackward0>)\n",
      "Epoch 126\n",
      "loss:  tensor(0.0139, device='cuda:0', grad_fn=<NllLossBackward0>)\n",
      "Epoch 127\n",
      "loss:  tensor(0.0199, device='cuda:0', grad_fn=<NllLossBackward0>)\n",
      "Epoch 128\n",
      "loss:  tensor(0.0135, device='cuda:0', grad_fn=<NllLossBackward0>)\n",
      "Epoch 129\n",
      "loss:  tensor(0.0205, device='cuda:0', grad_fn=<NllLossBackward0>)\n",
      "Epoch 130\n",
      "loss:  tensor(0.0156, device='cuda:0', grad_fn=<NllLossBackward0>)\n",
      "Epoch 131\n",
      "loss:  tensor(0.0259, device='cuda:0', grad_fn=<NllLossBackward0>)\n",
      "Epoch 132\n",
      "loss:  tensor(0.0265, device='cuda:0', grad_fn=<NllLossBackward0>)\n",
      "Epoch 133\n",
      "loss:  tensor(0.0110, device='cuda:0', grad_fn=<NllLossBackward0>)\n",
      "Epoch 134\n",
      "loss:  tensor(0.0169, device='cuda:0', grad_fn=<NllLossBackward0>)\n",
      "Epoch 135\n",
      "loss:  tensor(0.0172, device='cuda:0', grad_fn=<NllLossBackward0>)\n",
      "Epoch 136\n",
      "loss:  tensor(0.0323, device='cuda:0', grad_fn=<NllLossBackward0>)\n",
      "Epoch 137\n",
      "loss:  tensor(0.0190, device='cuda:0', grad_fn=<NllLossBackward0>)\n",
      "Epoch 138\n",
      "loss:  tensor(0.0274, device='cuda:0', grad_fn=<NllLossBackward0>)\n",
      "Epoch 139\n",
      "loss:  tensor(0.0142, device='cuda:0', grad_fn=<NllLossBackward0>)\n",
      "Epoch 140\n",
      "loss:  tensor(0.0213, device='cuda:0', grad_fn=<NllLossBackward0>)\n",
      "Epoch 141\n",
      "loss:  tensor(0.0229, device='cuda:0', grad_fn=<NllLossBackward0>)\n",
      "Epoch 142\n",
      "loss:  tensor(0.0343, device='cuda:0', grad_fn=<NllLossBackward0>)\n",
      "Epoch 143\n",
      "loss:  tensor(0.0140, device='cuda:0', grad_fn=<NllLossBackward0>)\n",
      "Epoch 144\n",
      "loss:  tensor(0.0136, device='cuda:0', grad_fn=<NllLossBackward0>)\n",
      "Epoch 145\n",
      "loss:  tensor(0.0143, device='cuda:0', grad_fn=<NllLossBackward0>)\n",
      "Epoch 146\n",
      "loss:  tensor(0.0147, device='cuda:0', grad_fn=<NllLossBackward0>)\n",
      "Epoch 147\n",
      "loss:  tensor(0.0238, device='cuda:0', grad_fn=<NllLossBackward0>)\n",
      "Epoch 148\n",
      "loss:  tensor(0.0182, device='cuda:0', grad_fn=<NllLossBackward0>)\n",
      "Epoch 149\n",
      "loss:  tensor(0.0138, device='cuda:0', grad_fn=<NllLossBackward0>)\n",
      "Epoch 150\n",
      "loss:  tensor(0.0159, device='cuda:0', grad_fn=<NllLossBackward0>)\n",
      "Epoch 151\n",
      "loss:  tensor(0.0200, device='cuda:0', grad_fn=<NllLossBackward0>)\n",
      "Epoch 152\n",
      "loss:  tensor(0.0229, device='cuda:0', grad_fn=<NllLossBackward0>)\n",
      "Epoch 153\n",
      "loss:  tensor(0.0226, device='cuda:0', grad_fn=<NllLossBackward0>)\n",
      "Epoch 154\n",
      "loss:  tensor(0.0189, device='cuda:0', grad_fn=<NllLossBackward0>)\n",
      "Epoch 155\n",
      "loss:  tensor(0.0219, device='cuda:0', grad_fn=<NllLossBackward0>)\n",
      "Epoch 156\n",
      "loss:  tensor(0.0157, device='cuda:0', grad_fn=<NllLossBackward0>)\n",
      "Epoch 157\n",
      "loss:  tensor(0.0160, device='cuda:0', grad_fn=<NllLossBackward0>)\n",
      "Epoch 158\n",
      "loss:  tensor(0.0377, device='cuda:0', grad_fn=<NllLossBackward0>)\n",
      "Epoch 159\n",
      "loss:  tensor(0.0185, device='cuda:0', grad_fn=<NllLossBackward0>)\n",
      "Epoch 160\n",
      "loss:  tensor(0.0207, device='cuda:0', grad_fn=<NllLossBackward0>)\n",
      "Epoch 161\n",
      "loss:  tensor(0.0143, device='cuda:0', grad_fn=<NllLossBackward0>)\n",
      "Epoch 162\n",
      "loss:  tensor(0.0235, device='cuda:0', grad_fn=<NllLossBackward0>)\n",
      "Epoch 163\n",
      "loss:  tensor(0.0258, device='cuda:0', grad_fn=<NllLossBackward0>)\n",
      "Epoch 164\n",
      "loss:  tensor(0.0139, device='cuda:0', grad_fn=<NllLossBackward0>)\n",
      "Epoch 165\n",
      "loss:  tensor(0.0219, device='cuda:0', grad_fn=<NllLossBackward0>)\n",
      "Epoch 166\n",
      "loss:  tensor(0.0186, device='cuda:0', grad_fn=<NllLossBackward0>)\n",
      "Epoch 167\n",
      "loss:  tensor(0.0165, device='cuda:0', grad_fn=<NllLossBackward0>)\n",
      "Epoch 168\n",
      "loss:  tensor(0.0156, device='cuda:0', grad_fn=<NllLossBackward0>)\n",
      "Epoch 169\n",
      "loss:  tensor(0.0235, device='cuda:0', grad_fn=<NllLossBackward0>)\n",
      "Epoch 170\n",
      "loss:  tensor(0.0272, device='cuda:0', grad_fn=<NllLossBackward0>)\n",
      "Epoch 171\n",
      "loss:  tensor(0.0132, device='cuda:0', grad_fn=<NllLossBackward0>)\n",
      "Epoch 172\n",
      "loss:  tensor(0.0091, device='cuda:0', grad_fn=<NllLossBackward0>)\n",
      "Epoch 173\n",
      "loss:  tensor(0.0241, device='cuda:0', grad_fn=<NllLossBackward0>)\n",
      "Epoch 174\n",
      "loss:  tensor(0.0133, device='cuda:0', grad_fn=<NllLossBackward0>)\n",
      "Epoch 175\n",
      "loss:  tensor(0.0265, device='cuda:0', grad_fn=<NllLossBackward0>)\n",
      "Epoch 176\n",
      "loss:  tensor(0.0193, device='cuda:0', grad_fn=<NllLossBackward0>)\n",
      "Epoch 177\n",
      "loss:  tensor(0.0131, device='cuda:0', grad_fn=<NllLossBackward0>)\n",
      "Epoch 178\n",
      "loss:  tensor(0.0177, device='cuda:0', grad_fn=<NllLossBackward0>)\n",
      "Epoch 179\n",
      "loss:  tensor(0.0281, device='cuda:0', grad_fn=<NllLossBackward0>)\n",
      "Epoch 180\n",
      "loss:  tensor(0.0220, device='cuda:0', grad_fn=<NllLossBackward0>)\n",
      "Epoch 181\n",
      "loss:  tensor(0.0193, device='cuda:0', grad_fn=<NllLossBackward0>)\n",
      "Epoch 182\n",
      "loss:  tensor(0.0237, device='cuda:0', grad_fn=<NllLossBackward0>)\n",
      "Epoch 183\n",
      "loss:  tensor(0.0149, device='cuda:0', grad_fn=<NllLossBackward0>)\n",
      "Epoch 184\n",
      "loss:  tensor(0.0294, device='cuda:0', grad_fn=<NllLossBackward0>)\n",
      "Epoch 185\n",
      "loss:  tensor(0.0172, device='cuda:0', grad_fn=<NllLossBackward0>)\n",
      "Epoch 186\n",
      "loss:  tensor(0.0415, device='cuda:0', grad_fn=<NllLossBackward0>)\n",
      "Epoch 187\n",
      "loss:  tensor(0.0165, device='cuda:0', grad_fn=<NllLossBackward0>)\n",
      "Epoch 188\n",
      "loss:  tensor(0.0200, device='cuda:0', grad_fn=<NllLossBackward0>)\n",
      "Epoch 189\n",
      "loss:  tensor(0.0215, device='cuda:0', grad_fn=<NllLossBackward0>)\n",
      "Epoch 190\n",
      "loss:  tensor(0.0143, device='cuda:0', grad_fn=<NllLossBackward0>)\n",
      "Epoch 191\n",
      "loss:  tensor(0.0130, device='cuda:0', grad_fn=<NllLossBackward0>)\n",
      "Epoch 192\n",
      "loss:  tensor(0.0264, device='cuda:0', grad_fn=<NllLossBackward0>)\n",
      "Epoch 193\n",
      "loss:  tensor(0.0159, device='cuda:0', grad_fn=<NllLossBackward0>)\n",
      "Epoch 194\n",
      "loss:  tensor(0.0289, device='cuda:0', grad_fn=<NllLossBackward0>)\n",
      "Epoch 195\n",
      "loss:  tensor(0.0131, device='cuda:0', grad_fn=<NllLossBackward0>)\n",
      "Epoch 196\n",
      "loss:  tensor(0.0170, device='cuda:0', grad_fn=<NllLossBackward0>)\n",
      "Epoch 197\n",
      "loss:  tensor(0.0187, device='cuda:0', grad_fn=<NllLossBackward0>)\n",
      "Epoch 198\n",
      "loss:  tensor(0.0180, device='cuda:0', grad_fn=<NllLossBackward0>)\n",
      "Epoch 199\n",
      "loss:  tensor(0.0164, device='cuda:0', grad_fn=<NllLossBackward0>)\n"
     ]
    }
   ],
   "source": [
    "num_epoch = 200\n",
    "for epoch in range(num_epoch):\n",
    "    print(f\"Epoch {epoch}\")\n",
    "    train_single_loop(data, model, optimizer)"
   ]
  },
  {
   "cell_type": "code",
   "execution_count": 160,
   "id": "77b30445-e956-4dd1-9529-037173752f08",
   "metadata": {},
   "outputs": [
    {
     "data": {
      "text/plain": [
       "0.7960000038146973"
      ]
     },
     "execution_count": 160,
     "metadata": {},
     "output_type": "execute_result"
    }
   ],
   "source": [
    "model.eval()\n",
    "pred = model(data).detach().argmax(dim=1)\n",
    "correct = (pred[data.test_mask]==data.y[data.test_mask]).sum()\n",
    "accuracy = correct/data.test_mask.sum()\n",
    "accuracy.item()"
   ]
  },
  {
   "cell_type": "code",
   "execution_count": null,
   "id": "a24842cf-f709-4d57-b205-5509bc3e3569",
   "metadata": {},
   "outputs": [],
   "source": []
  },
  {
   "cell_type": "code",
   "execution_count": null,
   "id": "6b731b78-24b7-4c49-9aeb-a0c07777fd4f",
   "metadata": {},
   "outputs": [],
   "source": []
  },
  {
   "cell_type": "code",
   "execution_count": null,
   "id": "528c1989-8399-45d9-999d-44461f616fba",
   "metadata": {},
   "outputs": [],
   "source": []
  },
  {
   "cell_type": "code",
   "execution_count": null,
   "id": "8b71aeb9-c8b5-43ba-b01f-e89a92c1f541",
   "metadata": {},
   "outputs": [],
   "source": []
  }
 ],
 "metadata": {
  "kernelspec": {
   "display_name": "Python 3 (ipykernel)",
   "language": "python",
   "name": "python3"
  },
  "language_info": {
   "codemirror_mode": {
    "name": "ipython",
    "version": 3
   },
   "file_extension": ".py",
   "mimetype": "text/x-python",
   "name": "python",
   "nbconvert_exporter": "python",
   "pygments_lexer": "ipython3",
   "version": "3.8.0"
  }
 },
 "nbformat": 4,
 "nbformat_minor": 5
}
